{
 "cells": [
  {
   "cell_type": "code",
   "execution_count": 19,
   "id": "c1d5310e-2428-4fec-a77f-14480a64788e",
   "metadata": {},
   "outputs": [],
   "source": [
    "import numpy as np\n",
    "import matplotlib.pyplot as plt\n",
    "from scipy.interpolate import interp2d"
   ]
  },
  {
   "cell_type": "code",
   "execution_count": 20,
   "id": "7c4415ea-7a63-48b5-81b1-b846f7a6a454",
   "metadata": {},
   "outputs": [
    {
     "data": {
      "text/plain": "array([[70,  6, 29, 36, 87, 81, 52, 91, 78, 56, 71, 96, 37, 89, 54],\n       [15, 48, 86, 62, 58, 91, 73, 41,  4, 21, 64, 25, 13, 63, 28],\n       [17, 75, 69, 24, 29, 91, 70, 49, 54, 19, 65, 15, 39, 40, 18],\n       [ 3, 37, 31, 55, 25, 23, 26, 98, 97, 87, 12, 98, 95, 79, 52],\n       [ 6, 68,  8, 78, 41, 71, 62, 13,  3, 84, 56, 29, 53, 29, 19],\n       [33, 94, 44, 13, 50, 83, 32, 37, 49, 72, 32, 41, 66, 81, 99],\n       [57, 43, 77, 48, 71, 67, 15, 43, 52, 37, 37, 47, 66, 61,  7],\n       [85, 23, 66, 59, 67, 45, 49, 87, 97, 40, 13, 68, 91, 58, 97],\n       [83, 40, 45, 43, 81, 85, 70,  9, 75, 53, 23, 20, 73, 23,  7],\n       [29, 61, 58, 88, 71, 32, 97, 48, 85, 44, 66, 11, 28,  6, 18],\n       [10, 88, 24, 87, 10, 48, 66, 59, 48, 85, 87, 76, 35, 85, 41],\n       [97, 58, 95, 46, 23, 24,  3, 46, 84,  3, 39, 76, 60, 66, 71],\n       [10, 94, 32, 99, 95,  6, 49, 82, 92, 17, 20, 67, 40, 84, 74],\n       [51, 45, 33, 15, 88, 34, 69, 24, 17, 58, 96, 80, 49, 92, 52],\n       [66, 48, 36, 47, 70, 59, 48, 60, 74, 22, 33, 38, 77, 41, 92]])"
     },
     "execution_count": 20,
     "metadata": {},
     "output_type": "execute_result"
    }
   ],
   "source": [
    "# Генерація масиву\n",
    "N, M = 15, 15\n",
    "A = np.random.randint(3, 100, size=(N, M))\n",
    "\n",
    "A"
   ]
  },
  {
   "cell_type": "code",
   "execution_count": 21,
   "id": "bda1c289-578b-44fb-8c6d-96c1203f2c40",
   "metadata": {},
   "outputs": [
    {
     "data": {
      "text/plain": "4"
     },
     "execution_count": 21,
     "metadata": {},
     "output_type": "execute_result"
    }
   ],
   "source": [
    "# Функція для знаходження найближчого значення до z\n",
    "def find_nearest(array, z):\n",
    "    idx = (np.abs(array - z)).argmin()\n",
    "    return array.flat[idx]\n",
    "\n",
    "find_nearest(A, 4)"
   ]
  },
  {
   "cell_type": "code",
   "execution_count": 22,
   "id": "ce9b93e5-765a-42db-a292-c31d4fa2d3ed",
   "metadata": {},
   "outputs": [],
   "source": [
    "# Знаходження середнього значення та медіани\n",
    "mean_value = np.mean(A)\n",
    "median_value = np.median(A)\n"
   ]
  },
  {
   "cell_type": "code",
   "execution_count": 23,
   "id": "f7fbf12a-49fe-4fc1-82df-5a343efd7ca6",
   "metadata": {},
   "outputs": [
    {
     "data": {
      "text/plain": "<Figure size 640x480 with 2 Axes>",
      "image/png": "[encoded data removed]"
     },
     "metadata": {},
     "output_type": "display_data"
    },
    {
     "data": {
      "text/plain": "array([[70,  6, 29, 36, 87, 81, 52, 91, 78, 56, 71, 96, 37, 89, 54],\n       [15, 48, 86, 62, 58, 91, 73, 41,  4, 21, 64, 25, 13, 63, 28],\n       [17, 75, 69, 24, 29, 91, 70, 49, 54, 19, 65, 15, 39, 40, 18],\n       [ 3, 37, 31, 55, 25, 23, 26, 98, 97, 87, 12, 98, 95, 79, 52],\n       [ 6, 68,  8, 78, 41, 71, 62, 13,  3, 84, 56, 29, 53, 29, 19],\n       [33, 94, 44, 13, 50, 83, 32, 37, 49, 72, 32, 41, 66, 81, 99],\n       [57, 43, 77, 48, 71, 67, 15, 43, 52, 37, 37, 47, 66, 61,  7],\n       [85, 23, 66, 59, 67, 45, 49, 87, 97, 40, 13, 68, 91, 58, 97],\n       [83, 40, 45, 43, 81, 85, 70,  9, 75, 53, 23, 20, 73, 23,  7],\n       [29, 61, 58, 88, 71, 32, 97, 48, 85, 44, 66, 11, 28,  6, 18],\n       [10, 88, 24, 87, 10, 48, 66, 59, 48, 85, 87, 76, 35, 85, 41],\n       [97, 58, 95, 46, 23, 24,  3, 46, 84,  3, 39, 76, 60, 66, 71],\n       [10, 94, 32, 99, 95,  6, 49, 82, 92, 17, 20, 67, 40, 84, 74],\n       [51, 45, 33, 15, 88, 34, 69, 24, 17, 58, 96, 80, 49, 92, 52],\n       [66, 48, 36, 47, 70, 59, 48, 60, 74, 22, 33, 38, 77, 41, 92]])"
     },
     "execution_count": 23,
     "metadata": {},
     "output_type": "execute_result"
    }
   ],
   "source": [
    "# Візуалізація\n",
    "plt.imshow(A, cmap='viridis')\n",
    "plt.colorbar(label='Value')\n",
    "plt.title('Visualization of the Array A')\n",
    "plt.xlabel('M')\n",
    "plt.ylabel('N')\n",
    "plt.show()\n",
    "\n",
    "A"
   ]
  },
  {
   "cell_type": "code",
   "execution_count": 24,
   "id": "68c0fab2-0c26-4c04-81b7-3beabf15bac7",
   "metadata": {},
   "outputs": [
    {
     "data": {
      "text/plain": "array([[70,  6, 29, 36, 87, 81, 52, 91, 78, 56, 71, 96, 37, 89, 54],\n       [15, 48, 86, 62, 58, 91, 73, 41,  4, 21, 64, 25, 13, 63, 28],\n       [17, 75, 69,  0, 29, 91, 70, 49, 54, 19, 65, 15, 39, 40, 18],\n       [ 3, 37, 31, 55, 25, 23, 26, 98, 97, 87, 12, 98, 95, 79, 52],\n       [ 6,  0,  8, 78, 41, 71, 62, 13,  3, 84, 56, 29, 53, 29, 19],\n       [33, 94, 44, 13, 50, 83, 32, 37, 49, 72, 32, 41, 66, 81, 99],\n       [57, 43, 77, 48, 71, 67, 15, 43, 52, 37, 37, 47, 66, 61,  7],\n       [85, 23, 66, 59, 67, 45, 49, 87, 97, 40, 13, 68, 91, 58, 97],\n       [83, 40, 45, 43, 81, 85, 70,  9, 75, 53, 23, 20, 73, 23,  7],\n       [29, 61, 58, 88, 71, 32, 97, 48, 85, 44, 66, 11, 28,  6, 18],\n       [10, 88, 24, 87, 10, 48, 66, 59, 48, 85, 87, 76, 35, 85, 41],\n       [97, 58, 95, 46, 23, 24,  3, 46, 84,  3, 39, 76, 60, 66, 71],\n       [10, 94, 32, 99, 95,  6, 49, 82, 92, 17, 20, 67, 40, 84, 74],\n       [51, 45, 33, 15, 88, 34, 69, 24, 17, 58, 96, 80, 49, 92, 52],\n       [66, 48, 36, 47, 70, 59, 48, 60, 74, 22, 33, 38, 77, 41, 92]])"
     },
     "execution_count": 24,
     "metadata": {},
     "output_type": "execute_result"
    }
   ],
   "source": [
    "# Занулення\n",
    "A[2, 3] = 0\n",
    "A[4, 1] = 0\n",
    "\n",
    "A"
   ]
  },
  {
   "cell_type": "code",
   "execution_count": 25,
   "id": "3635dc79-f769-4f00-a653-199ea1df5bd7",
   "metadata": {},
   "outputs": [
    {
     "name": "stderr",
     "output_type": "stream",
     "text": [
      "C:\\Users\\den\\AppData\\Local\\Temp\\ipykernel_24488\\798700588.py:10: DeprecationWarning: `interp2d` is deprecated!\n",
      "`interp2d` is deprecated in SciPy 1.10 and will be removed in SciPy 1.13.0.\n",
      "\n",
      "For legacy code, nearly bug-for-bug compatible replacements are\n",
      "`RectBivariateSpline` on regular grids, and `bisplrep`/`bisplev` for\n",
      "scattered 2D data.\n",
      "\n",
      "In new code, for regular grids use `RegularGridInterpolator` instead.\n",
      "For scattered data, prefer `LinearNDInterpolator` or\n",
      "`CloughTocher2DInterpolator`.\n",
      "\n",
      "For more details see\n",
      "`https://scipy.github.io/devdocs/notebooks/interp_transition_guide.html`\n",
      "\n",
      "  f = interp2d(x, y, A, kind='linear')\n",
      "C:\\Users\\den\\AppData\\Local\\Temp\\ipykernel_24488\\798700588.py:16: DeprecationWarning:         `interp2d` is deprecated!\n",
      "        `interp2d` is deprecated in SciPy 1.10 and will be removed in SciPy 1.13.0.\n",
      "\n",
      "        For legacy code, nearly bug-for-bug compatible replacements are\n",
      "        `RectBivariateSpline` on regular grids, and `bisplrep`/`bisplev` for\n",
      "        scattered 2D data.\n",
      "\n",
      "        In new code, for regular grids use `RegularGridInterpolator` instead.\n",
      "        For scattered data, prefer `LinearNDInterpolator` or\n",
      "        `CloughTocher2DInterpolator`.\n",
      "\n",
      "        For more details see\n",
      "        `https://scipy.github.io/devdocs/notebooks/interp_transition_guide.html`\n",
      "\n",
      "  A[i, j] = f(x_new, y_new)[0]\n"
     ]
    },
    {
     "data": {
      "text/plain": "array([[70,  6, 29, 36, 87, 81, 52, 91, 78, 56, 71, 96, 37, 89, 54],\n       [15, 48, 86, 62, 58, 91, 73, 41,  4, 21, 64, 25, 13, 63, 28],\n       [17, 75, 69, 31, 29, 91, 70, 49, 54, 19, 65, 15, 39, 40, 18],\n       [ 3, 37, 31, 55, 25, 23, 26, 98, 97, 87, 12, 98, 95, 79, 52],\n       [ 6, 58,  8, 78, 41, 71, 62, 13,  3, 84, 56, 29, 53, 29, 19],\n       [33, 94, 44, 13, 50, 83, 32, 37, 49, 72, 32, 41, 66, 81, 99],\n       [57, 43, 77, 48, 71, 67, 15, 43, 52, 37, 37, 47, 66, 61,  7],\n       [85, 23, 66, 59, 67, 45, 49, 87, 97, 40, 13, 68, 91, 58, 97],\n       [83, 40, 45, 43, 81, 85, 70,  9, 75, 53, 23, 20, 73, 23,  7],\n       [29, 61, 58, 88, 71, 32, 97, 48, 85, 44, 66, 11, 28,  6, 18],\n       [10, 88, 24, 87, 10, 48, 66, 59, 48, 85, 87, 76, 35, 85, 41],\n       [97, 58, 95, 46, 23, 24,  3, 46, 84,  3, 39, 76, 60, 66, 71],\n       [10, 94, 32, 99, 95,  6, 49, 82, 92, 17, 20, 67, 40, 84, 74],\n       [51, 45, 33, 15, 88, 34, 69, 24, 17, 58, 96, 80, 49, 92, 52],\n       [66, 48, 36, 47, 70, 59, 48, 60, 74, 22, 33, 38, 77, 41, 92]])"
     },
     "execution_count": 25,
     "metadata": {},
     "output_type": "execute_result"
    }
   ],
   "source": [
    "# Знаходження індексів занулених значень\n",
    "zero_indices = np.where(A == 0)\n",
    "\n",
    "\n",
    "# Підготувати до інтерполяції\n",
    "x = np.arange(0, N, 1)\n",
    "y = np.arange(0, M, 1)\n",
    "\n",
    "# Створити функцію для інтерполяції\n",
    "f = interp2d(x, y, A, kind='linear')\n",
    "\n",
    "# Здійснити інтерполяцію\n",
    "for (i, j) in zip(zero_indices[0], zero_indices[1]):\n",
    "    x_new = np.array([i])\n",
    "    y_new = np.array([j])\n",
    "    A[i, j] = f(x_new, y_new)[0]\n",
    "\n",
    "A"
   ]
  },
  {
   "cell_type": "code",
   "execution_count": 26,
   "id": "1a353492-a2db-4263-9f3a-316e55c2fca5",
   "metadata": {},
   "outputs": [],
   "source": [
    "# Нормалізувати\n",
    "A_normalized = (A - np.min(A)) / (np.max(A) - np.min(A))"
   ]
  },
  {
   "cell_type": "code",
   "execution_count": 27,
   "id": "31d03c64-1058-4fa1-8d83-19b941e0864f",
   "metadata": {},
   "outputs": [
    {
     "data": {
      "text/plain": "array([[0.69791667, 0.03125   , 0.27083333, 0.34375   , 0.875     ,\n        0.8125    , 0.51041667, 0.91666667, 0.78125   , 0.55208333,\n        0.70833333, 0.96875   , 0.35416667, 0.89583333, 0.53125   ],\n       [0.125     , 0.46875   , 0.86458333, 0.61458333, 0.57291667,\n        0.91666667, 0.72916667, 0.39583333, 0.01041667, 0.1875    ,\n        0.63541667, 0.22916667, 0.10416667, 0.625     , 0.26041667],\n       [0.14583333, 0.75      , 0.6875    , 0.29166667, 0.27083333,\n        0.91666667, 0.69791667, 0.47916667, 0.53125   , 0.16666667,\n        0.64583333, 0.125     , 0.375     , 0.38541667, 0.15625   ],\n       [0.        , 0.35416667, 0.29166667, 0.54166667, 0.22916667,\n        0.20833333, 0.23958333, 0.98958333, 0.97916667, 0.875     ,\n        0.09375   , 0.98958333, 0.95833333, 0.79166667, 0.51041667],\n       [0.03125   , 0.57291667, 0.05208333, 0.78125   , 0.39583333,\n        0.70833333, 0.61458333, 0.10416667, 0.        , 0.84375   ,\n        0.55208333, 0.27083333, 0.52083333, 0.27083333, 0.16666667],\n       [0.3125    , 0.94791667, 0.42708333, 0.10416667, 0.48958333,\n        0.83333333, 0.30208333, 0.35416667, 0.47916667, 0.71875   ,\n        0.30208333, 0.39583333, 0.65625   , 0.8125    , 1.        ],\n       [0.5625    , 0.41666667, 0.77083333, 0.46875   , 0.70833333,\n        0.66666667, 0.125     , 0.41666667, 0.51041667, 0.35416667,\n        0.35416667, 0.45833333, 0.65625   , 0.60416667, 0.04166667],\n       [0.85416667, 0.20833333, 0.65625   , 0.58333333, 0.66666667,\n        0.4375    , 0.47916667, 0.875     , 0.97916667, 0.38541667,\n        0.10416667, 0.67708333, 0.91666667, 0.57291667, 0.97916667],\n       [0.83333333, 0.38541667, 0.4375    , 0.41666667, 0.8125    ,\n        0.85416667, 0.69791667, 0.0625    , 0.75      , 0.52083333,\n        0.20833333, 0.17708333, 0.72916667, 0.20833333, 0.04166667],\n       [0.27083333, 0.60416667, 0.57291667, 0.88541667, 0.70833333,\n        0.30208333, 0.97916667, 0.46875   , 0.85416667, 0.42708333,\n        0.65625   , 0.08333333, 0.26041667, 0.03125   , 0.15625   ],\n       [0.07291667, 0.88541667, 0.21875   , 0.875     , 0.07291667,\n        0.46875   , 0.65625   , 0.58333333, 0.46875   , 0.85416667,\n        0.875     , 0.76041667, 0.33333333, 0.85416667, 0.39583333],\n       [0.97916667, 0.57291667, 0.95833333, 0.44791667, 0.20833333,\n        0.21875   , 0.        , 0.44791667, 0.84375   , 0.        ,\n        0.375     , 0.76041667, 0.59375   , 0.65625   , 0.70833333],\n       [0.07291667, 0.94791667, 0.30208333, 1.        , 0.95833333,\n        0.03125   , 0.47916667, 0.82291667, 0.92708333, 0.14583333,\n        0.17708333, 0.66666667, 0.38541667, 0.84375   , 0.73958333],\n       [0.5       , 0.4375    , 0.3125    , 0.125     , 0.88541667,\n        0.32291667, 0.6875    , 0.21875   , 0.14583333, 0.57291667,\n        0.96875   , 0.80208333, 0.47916667, 0.92708333, 0.51041667],\n       [0.65625   , 0.46875   , 0.34375   , 0.45833333, 0.69791667,\n        0.58333333, 0.46875   , 0.59375   , 0.73958333, 0.19791667,\n        0.3125    , 0.36458333, 0.77083333, 0.39583333, 0.92708333]])"
     },
     "execution_count": 27,
     "metadata": {},
     "output_type": "execute_result"
    }
   ],
   "source": [
    "A_normalized"
   ]
  }
 ],
 "metadata": {
  "kernelspec": {
   "display_name": "Python 3 (ipykernel)",
   "language": "python",
   "name": "python3"
  },
  "language_info": {
   "codemirror_mode": {
    "name": "ipython",
    "version": 3
   },
   "file_extension": ".py",
   "mimetype": "text/x-python",
   "name": "python",
   "nbconvert_exporter": "python",
   "pygments_lexer": "ipython3",
   "version": "3.10.11"
  }
 },
 "nbformat": 4,
 "nbformat_minor": 5
}
