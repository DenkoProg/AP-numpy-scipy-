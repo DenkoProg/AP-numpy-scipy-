{
 "cells": [
  {
   "cell_type": "code",
   "execution_count": 10,
   "id": "c1d5310e-2428-4fec-a77f-14480a64788e",
   "metadata": {},
   "outputs": [],
   "source": [
    "import numpy as np\n",
    "import matplotlib.pyplot as plt"
   ]
  },
  {
   "cell_type": "code",
   "execution_count": 14,
   "id": "7c4415ea-7a63-48b5-81b1-b846f7a6a454",
   "metadata": {},
   "outputs": [
    {
     "data": {
      "text/plain": "array([[39, 35, 61, 68, 34, 19, 32, 68, 21, 37, 70, 45, 41, 50, 19],\n       [44, 40, 16, 79, 87, 85, 41, 32, 64, 63, 31, 26, 26, 19, 11],\n       [55, 60, 92, 47, 42, 31, 70,  4, 15, 48, 40, 79, 15, 75, 24],\n       [22, 34, 31, 35, 96, 68, 63, 55, 41, 74, 53, 66, 57, 39, 54],\n       [ 5, 45, 15, 25, 40, 84, 33, 38, 50, 38, 55, 37, 36, 38, 94],\n       [ 4, 77, 46, 69, 44, 91, 18, 46, 11, 40, 19, 74, 33, 17, 48],\n       [60, 12, 20, 70, 96, 44, 72, 27, 10, 87, 48, 13, 65, 34, 37],\n       [ 5, 21, 54, 48, 42, 24, 73, 55, 43, 40, 46, 40, 74, 80,  7],\n       [39, 90, 94,  5, 84, 94, 10, 86, 26,  3, 15,  9, 73, 11,  9],\n       [ 6, 12, 83, 51, 29, 31, 78,  5, 94, 73, 90, 50, 45, 43, 93],\n       [29, 51, 31, 75, 73, 38, 50, 66, 48, 45, 44, 61, 82, 52, 37],\n       [68, 78, 42, 15, 40, 49, 70, 43, 99, 30, 41, 87, 69, 47, 59],\n       [63, 60, 55, 36, 83, 58, 37, 53, 23, 22, 14, 94, 97, 54, 64],\n       [ 6, 18, 67, 81, 11, 16, 26, 94, 36, 69, 96, 74, 11, 93,  6],\n       [78, 80, 49, 99, 22, 32, 79, 35, 58, 84, 11, 47, 69, 60, 95]])"
     },
     "execution_count": 14,
     "metadata": {},
     "output_type": "execute_result"
    }
   ],
   "source": [
    "# Генерація масиву\n",
    "N, M = 15, 15\n",
    "A = np.random.randint(3, 100, size=(N, M))\n",
    "\n",
    "A"
   ]
  },
  {
   "cell_type": "code",
   "execution_count": 15,
   "id": "bda1c289-578b-44fb-8c6d-96c1203f2c40",
   "metadata": {},
   "outputs": [
    {
     "data": {
      "text/plain": "4"
     },
     "execution_count": 15,
     "metadata": {},
     "output_type": "execute_result"
    }
   ],
   "source": [
    "# Функція для знаходження найближчого значення до z\n",
    "def find_nearest(array, z):\n",
    "    idx = (np.abs(array - z)).argmin()\n",
    "    return array.flat[idx]\n",
    "\n",
    "find_nearest(A, 4)"
   ]
  },
  {
   "cell_type": "code",
   "execution_count": 9,
   "id": "ce9b93e5-765a-42db-a292-c31d4fa2d3ed",
   "metadata": {},
   "outputs": [],
   "source": [
    "# Знаходження середнього значення та медіани\n",
    "mean_value = np.mean(A)\n",
    "median_value = np.median(A)\n"
   ]
  },
  {
   "cell_type": "code",
   "execution_count": 35,
   "id": "f7fbf12a-49fe-4fc1-82df-5a343efd7ca6",
   "metadata": {},
   "outputs": [
    {
     "data": {
      "text/plain": "<Figure size 640x480 with 2 Axes>",
      "image/png": "[encoded data removed]"
     },
     "metadata": {},
     "output_type": "display_data"
    },
    {
     "data": {
      "text/plain": "array([[67, 82, 27, 12, 82, 56, 73,  7, 56, 89,  9, 98, 63, 88, 15],\n       [14, 85, 85, 80, 93, 10, 34, 82, 68, 42, 59, 40, 97, 39,  3],\n       [23, 76, 94, 13, 37, 76, 15, 42, 29, 10, 37, 37, 95, 35, 84],\n       [83,  4, 37,  5, 66, 33, 58, 11, 49, 28, 28, 34, 85, 35, 27],\n       [99, 99, 51, 87, 27, 72, 70, 87,  8,  7, 22, 63, 11, 78, 80],\n       [70, 80, 48, 95, 45, 28, 47, 93, 68, 93,  9, 30,  8, 51, 16],\n       [89, 65, 77, 66, 16, 92, 27, 97, 54, 43, 50, 72, 14, 48, 83],\n       [ 4, 27, 15, 89, 62, 50, 82, 43, 18, 63, 59, 36, 33, 50, 97],\n       [ 8, 13, 81,  3, 34, 92, 97, 26, 22, 14, 46, 32, 61, 22, 28],\n       [ 3, 51, 68, 67, 58, 10, 96, 76, 63, 61, 36, 12, 32, 25,  6],\n       [64, 77,  5, 34, 74, 86, 93,  3,  9, 23, 11, 84, 70, 22, 98],\n       [67, 52, 49, 59, 31, 99, 26, 60, 62,  9, 92, 53, 93, 45, 39],\n       [71, 97, 61, 41, 38, 56, 82, 80, 58, 95, 30, 21, 98,  8, 13],\n       [ 6, 37, 97, 39, 29, 16, 11, 44, 88, 65, 20, 75, 87, 77, 92],\n       [85, 53, 64, 65, 66, 10, 74, 23, 70, 74, 67, 84, 17, 63, 66]])"
     },
     "execution_count": 35,
     "metadata": {},
     "output_type": "execute_result"
    }
   ],
   "source": [
    "# Візуалізація\n",
    "plt.imshow(A, cmap='viridis')\n",
    "plt.colorbar(label='Value')\n",
    "plt.title('Visualization of the Array A')\n",
    "plt.xlabel('M')\n",
    "plt.ylabel('N')\n",
    "plt.show()\n",
    "\n",
    "A"
   ]
  },
  {
   "cell_type": "code",
   "execution_count": 36,
   "id": "68c0fab2-0c26-4c04-81b7-3beabf15bac7",
   "metadata": {},
   "outputs": [
    {
     "data": {
      "text/plain": "array([[67, 82, 27, 12, 82, 56, 73,  7, 56, 89,  9, 98, 63, 88, 15],\n       [14, 85, 85, 80, 93, 10, 34, 82, 68, 42, 59, 40, 97, 39,  3],\n       [23, 76, 94,  0, 37, 76, 15, 42, 29, 10, 37, 37, 95, 35, 84],\n       [83,  4, 37,  5, 66, 33, 58, 11, 49, 28, 28, 34, 85, 35, 27],\n       [99,  0, 51, 87, 27, 72, 70, 87,  8,  7, 22, 63, 11, 78, 80],\n       [70, 80, 48, 95, 45, 28, 47, 93, 68, 93,  9, 30,  8, 51, 16],\n       [89, 65, 77, 66, 16, 92, 27, 97, 54, 43, 50, 72, 14, 48, 83],\n       [ 4, 27, 15, 89, 62, 50, 82, 43, 18, 63, 59, 36, 33, 50, 97],\n       [ 8, 13, 81,  3, 34, 92, 97, 26, 22, 14, 46, 32, 61, 22, 28],\n       [ 3, 51, 68, 67, 58, 10, 96, 76, 63, 61, 36, 12, 32, 25,  6],\n       [64, 77,  5, 34, 74, 86, 93,  3,  9, 23, 11, 84, 70, 22, 98],\n       [67, 52, 49, 59, 31, 99, 26, 60, 62,  9, 92, 53, 93, 45, 39],\n       [71, 97, 61, 41, 38, 56, 82, 80, 58, 95, 30, 21, 98,  8, 13],\n       [ 6, 37, 97, 39, 29, 16, 11, 44, 88, 65, 20, 75, 87, 77, 92],\n       [85, 53, 64, 65, 66, 10, 74, 23, 70, 74, 67, 84, 17, 63, 66]])"
     },
     "execution_count": 36,
     "metadata": {},
     "output_type": "execute_result"
    }
   ],
   "source": [
    "# Занулення\n",
    "A[2, 3] = 0\n",
    "A[4, 1] = 0\n",
    "\n",
    "A"
   ]
  },
  {
   "cell_type": "code",
   "execution_count": 18,
   "id": "3635dc79-f769-4f00-a653-199ea1df5bd7",
   "metadata": {},
   "outputs": [
    {
     "name": "stdout",
     "output_type": "stream",
     "text": [
      "[[39 35 61 68 34 19 32 68 21 37 70 45 41 50 19]\n",
      " [44 40 16 79 87 85 41 32 64 63 31 26 26 19 11]\n",
      " [55 60 92 47 42 31 70  4 15 48 40 79 15 75 24]\n",
      " [22 34 31 35 96 68 63 55 41 74 53 66 57 39 54]\n",
      " [ 5 45 15 25 40 84 33 38 50 38 55 37 36 38 94]\n",
      " [ 4 77 46 69 44 91 18 46 11 40 19 74 33 17 48]\n",
      " [60 12 20 70 96 44 72 27 10 87 48 13 65 34 37]\n",
      " [ 5 21 54 48 42 24 73 55 43 40 46 40 74 80  7]\n",
      " [39 90 94  5 84 94 10 86 26  3 15  9 73 11  9]\n",
      " [ 6 12 83 51 29 31 78  5 94 73 90 50 45 43 93]\n",
      " [29 51 31 75 73 38 50 66 48 45 44 61 82 52 37]\n",
      " [68 78 42 15 40 49 70 43 99 30 41 87 69 47 59]\n",
      " [63 60 55 36 83 58 37 53 23 22 14 94 97 54 64]\n",
      " [ 6 18 67 81 11 16 26 94 36 69 96 74 11 93  6]\n",
      " [78 80 49 99 22 32 79 35 58 84 11 47 69 60 95]]\n"
     ]
    }
   ],
   "source": [
    "# Знаходження індексів занулених значень\n",
    "zero_indices = np.where(A == 0)\n",
    "\n",
    "# Відновлення\n",
    "A[zero_indices] = mean_value\n",
    "A"
   ]
  },
  {
   "cell_type": "code",
   "execution_count": 38,
   "id": "1a353492-a2db-4263-9f3a-316e55c2fca5",
   "metadata": {},
   "outputs": [],
   "source": [
    "# Нормалізувати\n",
    "A_normalized = (A - np.min(A)) / (np.max(A) - np.min(A))"
   ]
  },
  {
   "cell_type": "code",
   "execution_count": 39,
   "id": "31d03c64-1058-4fa1-8d83-19b941e0864f",
   "metadata": {},
   "outputs": [
    {
     "data": {
      "text/plain": "array([[0.66666667, 0.82291667, 0.25      , 0.09375   , 0.82291667,\n        0.55208333, 0.72916667, 0.04166667, 0.55208333, 0.89583333,\n        0.0625    , 0.98958333, 0.625     , 0.88541667, 0.125     ],\n       [0.11458333, 0.85416667, 0.85416667, 0.80208333, 0.9375    ,\n        0.07291667, 0.32291667, 0.82291667, 0.67708333, 0.40625   ,\n        0.58333333, 0.38541667, 0.97916667, 0.375     , 0.        ],\n       [0.20833333, 0.76041667, 0.94791667, 0.5       , 0.35416667,\n        0.76041667, 0.125     , 0.40625   , 0.27083333, 0.07291667,\n        0.35416667, 0.35416667, 0.95833333, 0.33333333, 0.84375   ],\n       [0.83333333, 0.01041667, 0.35416667, 0.02083333, 0.65625   ,\n        0.3125    , 0.57291667, 0.08333333, 0.47916667, 0.26041667,\n        0.26041667, 0.32291667, 0.85416667, 0.33333333, 0.25      ],\n       [1.        , 0.5       , 0.5       , 0.875     , 0.25      ,\n        0.71875   , 0.69791667, 0.875     , 0.05208333, 0.04166667,\n        0.19791667, 0.625     , 0.08333333, 0.78125   , 0.80208333],\n       [0.69791667, 0.80208333, 0.46875   , 0.95833333, 0.4375    ,\n        0.26041667, 0.45833333, 0.9375    , 0.67708333, 0.9375    ,\n        0.0625    , 0.28125   , 0.05208333, 0.5       , 0.13541667],\n       [0.89583333, 0.64583333, 0.77083333, 0.65625   , 0.13541667,\n        0.92708333, 0.25      , 0.97916667, 0.53125   , 0.41666667,\n        0.48958333, 0.71875   , 0.11458333, 0.46875   , 0.83333333],\n       [0.01041667, 0.25      , 0.125     , 0.89583333, 0.61458333,\n        0.48958333, 0.82291667, 0.41666667, 0.15625   , 0.625     ,\n        0.58333333, 0.34375   , 0.3125    , 0.48958333, 0.97916667],\n       [0.05208333, 0.10416667, 0.8125    , 0.        , 0.32291667,\n        0.92708333, 0.97916667, 0.23958333, 0.19791667, 0.11458333,\n        0.44791667, 0.30208333, 0.60416667, 0.19791667, 0.26041667],\n       [0.        , 0.5       , 0.67708333, 0.66666667, 0.57291667,\n        0.07291667, 0.96875   , 0.76041667, 0.625     , 0.60416667,\n        0.34375   , 0.09375   , 0.30208333, 0.22916667, 0.03125   ],\n       [0.63541667, 0.77083333, 0.02083333, 0.32291667, 0.73958333,\n        0.86458333, 0.9375    , 0.        , 0.0625    , 0.20833333,\n        0.08333333, 0.84375   , 0.69791667, 0.19791667, 0.98958333],\n       [0.66666667, 0.51041667, 0.47916667, 0.58333333, 0.29166667,\n        1.        , 0.23958333, 0.59375   , 0.61458333, 0.0625    ,\n        0.92708333, 0.52083333, 0.9375    , 0.4375    , 0.375     ],\n       [0.70833333, 0.97916667, 0.60416667, 0.39583333, 0.36458333,\n        0.55208333, 0.82291667, 0.80208333, 0.57291667, 0.95833333,\n        0.28125   , 0.1875    , 0.98958333, 0.05208333, 0.10416667],\n       [0.03125   , 0.35416667, 0.97916667, 0.375     , 0.27083333,\n        0.13541667, 0.08333333, 0.42708333, 0.88541667, 0.64583333,\n        0.17708333, 0.75      , 0.875     , 0.77083333, 0.92708333],\n       [0.85416667, 0.52083333, 0.63541667, 0.64583333, 0.65625   ,\n        0.07291667, 0.73958333, 0.20833333, 0.69791667, 0.73958333,\n        0.66666667, 0.84375   , 0.14583333, 0.625     , 0.65625   ]])"
     },
     "execution_count": 39,
     "metadata": {},
     "output_type": "execute_result"
    }
   ],
   "source": [
    "A_normalized"
   ]
  }
 ],
 "metadata": {
  "kernelspec": {
   "display_name": "Python 3 (ipykernel)",
   "language": "python",
   "name": "python3"
  },
  "language_info": {
   "codemirror_mode": {
    "name": "ipython",
    "version": 3
   },
   "file_extension": ".py",
   "mimetype": "text/x-python",
   "name": "python",
   "nbconvert_exporter": "python",
   "pygments_lexer": "ipython3",
   "version": "3.10.11"
  }
 },
 "nbformat": 4,
 "nbformat_minor": 5
}
